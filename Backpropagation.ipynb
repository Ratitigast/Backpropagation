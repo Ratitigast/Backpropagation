{
 "cells": [
  {
   "cell_type": "code",
   "execution_count": 81,
   "metadata": {},
   "outputs": [],
   "source": [
    "from math import exp\n",
    "from random import seed\n",
    "from random import random\n",
    "import numpy as np\n",
    "# Initialize a network\n",
    "def initialize_network():\n",
    "\tnetwork = list()\n",
    "\n",
    "\thidden_layer=np.array([{'weights_hl':[-0.27,-0.41]}])\n",
    "\tnetwork.append(hidden_layer)\n",
    "\tbias_hl=np.array([{'bias_hl':[-0.48,-0.13]}])\n",
    "\tnetwork.append(bias_hl)\n",
    "\toutput_layer = np.array([{'weights_ol':[0.09,-0.17]}])\n",
    "\tnetwork.append(output_layer)\n",
    "\tbias_ol=np.array([{'bias_ol':[0.48]}])\n",
    "\tnetwork.append(bias_ol)\n",
    "\treturn network\n",
    "\n",
    "# Calculate neuron activation for an input\n",
    "def activate(weights_hl,weight_ol,bias_hl,bias_ol, inputs):\n",
    "\tactivation_1 = weights_hl\n",
    "\tactivation_2 = weights_ol\n",
    "\tfor i in range(len(weights_hl+weights_ol)):\n",
    "\t\tactivation_1 += weights_hl.T@inputs[i]+bias_hl\n",
    "\t\tactivation_2 += weights_ol.T@activation_1+bias_ol\n",
    "\treturn activation_1,activation_2\n",
    "                    \n",
    "#hidden_layer[1:2],output_layer[1:2],hidden_layer[2:4],output_layer[2:4]                    \n",
    "# Transfer neuron activation\n",
    "def transfer(activation_1,activation_2):\n",
    "\treturn 1.0 / (1.0 + exp(-activation_1)),activation_2\n",
    "\n",
    "# Forward propagate input to a network output\n",
    "def forward_propagate(network, row):\n",
    "\tinputs = row\n",
    "\tfor layer in network:\n",
    "\t\tnew_inputs = []\n",
    "\t\tfor neuron in layer:\n",
    "\t\t\tactivation = activate(neuron['weights_hl','weight_ol','bias_hl','bias_ol'], inputs)\n",
    "\t\t\tneuron['output'] = transfer(activation)\n",
    "\t\t\tnew_inputs.append(neuron['output'])\n",
    "\t\tinputs = new_inputs\n",
    "\t\t\n",
    "\treturn inputs\n",
    "\n",
    "def error(row,activation_2):\n",
    "    inputs = row\n",
    "    for i in range(len(inputs)):\n",
    "        c_error += (1+sin(pi/4)*inputs[i]-activation_2)\n",
    "    return c_error\n",
    "    "
   ]
  },
  {
   "cell_type": "code",
   "execution_count": 60,
   "metadata": {},
   "outputs": [
    {
     "name": "stdout",
     "output_type": "stream",
     "text": [
      "[-0.27 -0.41 -0.48 -0.13]\n",
      "[ 0.09 -0.17  0.48]\n"
     ]
    }
   ],
   "source": [
    "def initialize_network():\n",
    "\tnetwork = list()\n",
    "\n",
    "\thidden_layer=np.array([-0.27,-0.41,-0.48,-0.13])\n",
    "\tnetwork.append(hidden_layer)\n",
    "\toutput_layer = np.array([0.09,-0.17,0.48])\n",
    "\tnetwork.append(output_layer)\n",
    "\treturn network\n",
    "seed(1)\n",
    "network = initialize_network()\n",
    "for layer in network:\n",
    "\tprint(layer)"
   ]
  },
  {
   "cell_type": "code",
   "execution_count": null,
   "metadata": {},
   "outputs": [],
   "source": []
  },
  {
   "cell_type": "code",
   "execution_count": null,
   "metadata": {},
   "outputs": [],
   "source": []
  }
 ],
 "metadata": {
  "kernelspec": {
   "display_name": "Python 3",
   "language": "python",
   "name": "python3"
  },
  "language_info": {
   "codemirror_mode": {
    "name": "ipython",
    "version": 3
   },
   "file_extension": ".py",
   "mimetype": "text/x-python",
   "name": "python",
   "nbconvert_exporter": "python",
   "pygments_lexer": "ipython3",
   "version": "3.6.4"
  }
 },
 "nbformat": 4,
 "nbformat_minor": 2
}
